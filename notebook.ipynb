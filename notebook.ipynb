{
 "cells": [
  {
   "cell_type": "code",
   "execution_count": 1,
   "metadata": {},
   "outputs": [],
   "source": [
    "import pandas as pd"
   ]
  },
  {
   "cell_type": "code",
   "execution_count": 2,
   "metadata": {},
   "outputs": [],
   "source": [
    "#Cargar datos 1\n",
    "empleados=pd.read_csv('data/Employee_Salaries.csv')"
   ]
  },
  {
   "cell_type": "code",
   "execution_count": 3,
   "metadata": {},
   "outputs": [
    {
     "name": "stdout",
     "output_type": "stream",
     "text": [
      "<class 'pandas.core.frame.DataFrame'>\n",
      "RangeIndex: 10291 entries, 0 to 10290\n",
      "Data columns (total 8 columns):\n",
      " #   Column           Non-Null Count  Dtype  \n",
      "---  ------           --------------  -----  \n",
      " 0   Department       10291 non-null  object \n",
      " 1   Department_Name  10291 non-null  object \n",
      " 2   Division         10291 non-null  object \n",
      " 3   Gender           10291 non-null  object \n",
      " 4   Base_Salary      10291 non-null  float64\n",
      " 5   Overtime_Pay     10291 non-null  float64\n",
      " 6   Longevity_Pay    10291 non-null  float64\n",
      " 7   Grade            10258 non-null  object \n",
      "dtypes: float64(3), object(5)\n",
      "memory usage: 643.3+ KB\n"
     ]
    }
   ],
   "source": [
    "#Exploracion inicial 2\n",
    "empleados.info()"
   ]
  },
  {
   "cell_type": "code",
   "execution_count": 4,
   "metadata": {},
   "outputs": [
    {
     "name": "stdout",
     "output_type": "stream",
     "text": [
      "el dataframe tiene 10291registros y tiene las siguientes columnas Index(['Department', 'Department_Name', 'Division', 'Gender', 'Base_Salary',\n",
      "       'Overtime_Pay', 'Longevity_Pay', 'Grade'],\n",
      "      dtype='object')\n"
     ]
    }
   ],
   "source": [
    "print(f'el dataframe tiene {len(empleados)}registros y tiene las siguientes columnas {empleados.columns}')"
   ]
  },
  {
   "cell_type": "code",
   "execution_count": 5,
   "metadata": {},
   "outputs": [
    {
     "data": {
      "text/html": [
       "<div>\n",
       "<style scoped>\n",
       "    .dataframe tbody tr th:only-of-type {\n",
       "        vertical-align: middle;\n",
       "    }\n",
       "\n",
       "    .dataframe tbody tr th {\n",
       "        vertical-align: top;\n",
       "    }\n",
       "\n",
       "    .dataframe thead th {\n",
       "        text-align: right;\n",
       "    }\n",
       "</style>\n",
       "<table border=\"1\" class=\"dataframe\">\n",
       "  <thead>\n",
       "    <tr style=\"text-align: right;\">\n",
       "      <th></th>\n",
       "      <th>Department</th>\n",
       "      <th>Department_Name</th>\n",
       "      <th>Division</th>\n",
       "      <th>Gender</th>\n",
       "      <th>Base_Salary</th>\n",
       "      <th>Overtime_Pay</th>\n",
       "      <th>Longevity_Pay</th>\n",
       "      <th>Grade</th>\n",
       "    </tr>\n",
       "  </thead>\n",
       "  <tbody>\n",
       "    <tr>\n",
       "      <th>0</th>\n",
       "      <td>ABS</td>\n",
       "      <td>Alcohol Beverage Services</td>\n",
       "      <td>ABS 85 Administration</td>\n",
       "      <td>M</td>\n",
       "      <td>175873.00</td>\n",
       "      <td>0.0</td>\n",
       "      <td>0.0</td>\n",
       "      <td>M2</td>\n",
       "    </tr>\n",
       "    <tr>\n",
       "      <th>1</th>\n",
       "      <td>ABS</td>\n",
       "      <td>Alcohol Beverage Services</td>\n",
       "      <td>ABS 85 Administration</td>\n",
       "      <td>M</td>\n",
       "      <td>145613.36</td>\n",
       "      <td>0.0</td>\n",
       "      <td>0.0</td>\n",
       "      <td>M3</td>\n",
       "    </tr>\n",
       "    <tr>\n",
       "      <th>2</th>\n",
       "      <td>ABS</td>\n",
       "      <td>Alcohol Beverage Services</td>\n",
       "      <td>ABS 85 Administration</td>\n",
       "      <td>F</td>\n",
       "      <td>136970.00</td>\n",
       "      <td>0.0</td>\n",
       "      <td>0.0</td>\n",
       "      <td>M3</td>\n",
       "    </tr>\n",
       "  </tbody>\n",
       "</table>\n",
       "</div>"
      ],
      "text/plain": [
       "  Department            Department_Name               Division Gender  \\\n",
       "0        ABS  Alcohol Beverage Services  ABS 85 Administration      M   \n",
       "1        ABS  Alcohol Beverage Services  ABS 85 Administration      M   \n",
       "2        ABS  Alcohol Beverage Services  ABS 85 Administration      F   \n",
       "\n",
       "   Base_Salary  Overtime_Pay  Longevity_Pay Grade  \n",
       "0    175873.00           0.0            0.0    M2  \n",
       "1    145613.36           0.0            0.0    M3  \n",
       "2    136970.00           0.0            0.0    M3  "
      ]
     },
     "execution_count": 5,
     "metadata": {},
     "output_type": "execute_result"
    }
   ],
   "source": [
    "#Mostrar los ´primeros registros\n",
    "empleados.head(3)"
   ]
  },
  {
   "cell_type": "code",
   "execution_count": 6,
   "metadata": {},
   "outputs": [
    {
     "data": {
      "text/html": [
       "<div>\n",
       "<style scoped>\n",
       "    .dataframe tbody tr th:only-of-type {\n",
       "        vertical-align: middle;\n",
       "    }\n",
       "\n",
       "    .dataframe tbody tr th {\n",
       "        vertical-align: top;\n",
       "    }\n",
       "\n",
       "    .dataframe thead th {\n",
       "        text-align: right;\n",
       "    }\n",
       "</style>\n",
       "<table border=\"1\" class=\"dataframe\">\n",
       "  <thead>\n",
       "    <tr style=\"text-align: right;\">\n",
       "      <th></th>\n",
       "      <th>Department</th>\n",
       "      <th>Department_Name</th>\n",
       "      <th>Division</th>\n",
       "      <th>Gender</th>\n",
       "      <th>Base_Salary</th>\n",
       "      <th>Overtime_Pay</th>\n",
       "      <th>Longevity_Pay</th>\n",
       "      <th>Grade</th>\n",
       "    </tr>\n",
       "  </thead>\n",
       "  <tbody>\n",
       "    <tr>\n",
       "      <th>3250</th>\n",
       "      <td>DOT</td>\n",
       "      <td>Department of Transportation</td>\n",
       "      <td>DOT 50 Transportation Management</td>\n",
       "      <td>M</td>\n",
       "      <td>89948.0</td>\n",
       "      <td>41226.70</td>\n",
       "      <td>4260.33</td>\n",
       "      <td>19</td>\n",
       "    </tr>\n",
       "    <tr>\n",
       "      <th>4439</th>\n",
       "      <td>FRS</td>\n",
       "      <td>Fire and Rescue Services</td>\n",
       "      <td>FRS 45 Station 2</td>\n",
       "      <td>M</td>\n",
       "      <td>76101.0</td>\n",
       "      <td>44942.41</td>\n",
       "      <td>0.00</td>\n",
       "      <td>F3</td>\n",
       "    </tr>\n",
       "    <tr>\n",
       "      <th>3543</th>\n",
       "      <td>DPS</td>\n",
       "      <td>Department of Permitting Services</td>\n",
       "      <td>DPS 75 Zoning and Site Plan Compliance</td>\n",
       "      <td>F</td>\n",
       "      <td>117424.0</td>\n",
       "      <td>0.00</td>\n",
       "      <td>5013.30</td>\n",
       "      <td>N25</td>\n",
       "    </tr>\n",
       "  </tbody>\n",
       "</table>\n",
       "</div>"
      ],
      "text/plain": [
       "     Department                    Department_Name  \\\n",
       "3250        DOT       Department of Transportation   \n",
       "4439        FRS           Fire and Rescue Services   \n",
       "3543        DPS  Department of Permitting Services   \n",
       "\n",
       "                                    Division Gender  Base_Salary  \\\n",
       "3250        DOT 50 Transportation Management      M      89948.0   \n",
       "4439                        FRS 45 Station 2      M      76101.0   \n",
       "3543  DPS 75 Zoning and Site Plan Compliance      F     117424.0   \n",
       "\n",
       "      Overtime_Pay  Longevity_Pay Grade  \n",
       "3250      41226.70        4260.33    19  \n",
       "4439      44942.41           0.00    F3  \n",
       "3543          0.00        5013.30   N25  "
      ]
     },
     "execution_count": 6,
     "metadata": {},
     "output_type": "execute_result"
    }
   ],
   "source": [
    "empleados.sample(3)"
   ]
  },
  {
   "cell_type": "code",
   "execution_count": 7,
   "metadata": {},
   "outputs": [
    {
     "name": "stdout",
     "output_type": "stream",
     "text": [
      "<class 'pandas.core.frame.DataFrame'>\n",
      "RangeIndex: 10291 entries, 0 to 10290\n",
      "Data columns (total 8 columns):\n",
      " #   Column           Non-Null Count  Dtype  \n",
      "---  ------           --------------  -----  \n",
      " 0   Department       10291 non-null  object \n",
      " 1   Department_Name  10291 non-null  object \n",
      " 2   Division         10291 non-null  object \n",
      " 3   Gender           10291 non-null  object \n",
      " 4   Base_Salary      10291 non-null  float64\n",
      " 5   Overtime_Pay     10291 non-null  float64\n",
      " 6   Longevity_Pay    10291 non-null  float64\n",
      " 7   Grade            10258 non-null  object \n",
      "dtypes: float64(3), object(5)\n",
      "memory usage: 643.3+ KB\n"
     ]
    }
   ],
   "source": [
    "#Comprobar si har valores nulos o faltantes\n",
    "empleados.info()"
   ]
  },
  {
   "cell_type": "code",
   "execution_count": 8,
   "metadata": {},
   "outputs": [
    {
     "name": "stdout",
     "output_type": "stream",
     "text": [
      "Department          0\n",
      "Department_Name     0\n",
      "Division            0\n",
      "Gender              0\n",
      "Base_Salary         0\n",
      "Overtime_Pay        0\n",
      "Longevity_Pay       0\n",
      "Grade              33\n",
      "dtype: int64\n"
     ]
    }
   ],
   "source": [
    "print(empleados.isnull().sum())"
   ]
  },
  {
   "cell_type": "code",
   "execution_count": 11,
   "metadata": {},
   "outputs": [],
   "source": [
    "#Transformacion de datos 3\n",
    "empleados['salario_mensual']=empleados['Base_Salary']/12"
   ]
  },
  {
   "cell_type": "code",
   "execution_count": 13,
   "metadata": {},
   "outputs": [
    {
     "data": {
      "text/html": [
       "<div>\n",
       "<style scoped>\n",
       "    .dataframe tbody tr th:only-of-type {\n",
       "        vertical-align: middle;\n",
       "    }\n",
       "\n",
       "    .dataframe tbody tr th {\n",
       "        vertical-align: top;\n",
       "    }\n",
       "\n",
       "    .dataframe thead th {\n",
       "        text-align: right;\n",
       "    }\n",
       "</style>\n",
       "<table border=\"1\" class=\"dataframe\">\n",
       "  <thead>\n",
       "    <tr style=\"text-align: right;\">\n",
       "      <th></th>\n",
       "      <th>Department</th>\n",
       "      <th>Department_Name</th>\n",
       "      <th>Division</th>\n",
       "      <th>Gender</th>\n",
       "      <th>Base_Salary</th>\n",
       "      <th>Overtime_Pay</th>\n",
       "      <th>Longevity_Pay</th>\n",
       "      <th>Grade</th>\n",
       "      <th>salario_mensual</th>\n",
       "    </tr>\n",
       "  </thead>\n",
       "  <tbody>\n",
       "    <tr>\n",
       "      <th>7525</th>\n",
       "      <td>LIB</td>\n",
       "      <td>Department of Public Libraries</td>\n",
       "      <td>LIB 71 Twinbrook Library</td>\n",
       "      <td>F</td>\n",
       "      <td>84500.0</td>\n",
       "      <td>0.00</td>\n",
       "      <td>0.00</td>\n",
       "      <td>24</td>\n",
       "      <td>7041.666667</td>\n",
       "    </tr>\n",
       "    <tr>\n",
       "      <th>8771</th>\n",
       "      <td>POL</td>\n",
       "      <td>Department of Police</td>\n",
       "      <td>POL 47 ISB Major Crimes Division Homicide and ...</td>\n",
       "      <td>M</td>\n",
       "      <td>124833.0</td>\n",
       "      <td>33207.04</td>\n",
       "      <td>13310.70</td>\n",
       "      <td>A1</td>\n",
       "      <td>10402.750000</td>\n",
       "    </tr>\n",
       "    <tr>\n",
       "      <th>1852</th>\n",
       "      <td>DGS</td>\n",
       "      <td>Department of General Services</td>\n",
       "      <td>DGS 36 Fleet Management Fleet Services</td>\n",
       "      <td>M</td>\n",
       "      <td>89948.0</td>\n",
       "      <td>9602.31</td>\n",
       "      <td>4260.33</td>\n",
       "      <td>19</td>\n",
       "      <td>7495.666667</td>\n",
       "    </tr>\n",
       "  </tbody>\n",
       "</table>\n",
       "</div>"
      ],
      "text/plain": [
       "     Department                 Department_Name  \\\n",
       "7525        LIB  Department of Public Libraries   \n",
       "8771        POL            Department of Police   \n",
       "1852        DGS  Department of General Services   \n",
       "\n",
       "                                               Division Gender  Base_Salary  \\\n",
       "7525                           LIB 71 Twinbrook Library      F      84500.0   \n",
       "8771  POL 47 ISB Major Crimes Division Homicide and ...      M     124833.0   \n",
       "1852             DGS 36 Fleet Management Fleet Services      M      89948.0   \n",
       "\n",
       "      Overtime_Pay  Longevity_Pay Grade  salario_mensual  \n",
       "7525          0.00           0.00    24      7041.666667  \n",
       "8771      33207.04       13310.70    A1     10402.750000  \n",
       "1852       9602.31        4260.33    19      7495.666667  "
      ]
     },
     "execution_count": 13,
     "metadata": {},
     "output_type": "execute_result"
    }
   ],
   "source": [
    "empleados.sample(3)"
   ]
  },
  {
   "cell_type": "code",
   "execution_count": 22,
   "metadata": {},
   "outputs": [],
   "source": [
    "#Calcular el promedio de salario por departamento.\n",
    "empleados[\"Salario_Mensual\"] = empleados[\"Base_Salary\"] / 12\n",
    "promedio_salario = empleados.groupby(\"Department_Name\")[\"Salario_Mensual\"].mean()"
   ]
  },
  {
   "cell_type": "code",
   "execution_count": 23,
   "metadata": {},
   "outputs": [
    {
     "data": {
      "text/html": [
       "<div>\n",
       "<style scoped>\n",
       "    .dataframe tbody tr th:only-of-type {\n",
       "        vertical-align: middle;\n",
       "    }\n",
       "\n",
       "    .dataframe tbody tr th {\n",
       "        vertical-align: top;\n",
       "    }\n",
       "\n",
       "    .dataframe thead th {\n",
       "        text-align: right;\n",
       "    }\n",
       "</style>\n",
       "<table border=\"1\" class=\"dataframe\">\n",
       "  <thead>\n",
       "    <tr style=\"text-align: right;\">\n",
       "      <th></th>\n",
       "      <th>Department</th>\n",
       "      <th>Department_Name</th>\n",
       "      <th>Division</th>\n",
       "      <th>Gender</th>\n",
       "      <th>Base_Salary</th>\n",
       "      <th>Overtime_Pay</th>\n",
       "      <th>Longevity_Pay</th>\n",
       "      <th>Grade</th>\n",
       "      <th>salario_mensual</th>\n",
       "      <th>Salario_Anual</th>\n",
       "      <th>Salario_Mensual</th>\n",
       "    </tr>\n",
       "  </thead>\n",
       "  <tbody>\n",
       "    <tr>\n",
       "      <th>7529</th>\n",
       "      <td>LIB</td>\n",
       "      <td>Department of Public Libraries</td>\n",
       "      <td>LIB 71 Wheaton Library</td>\n",
       "      <td>M</td>\n",
       "      <td>112267.0</td>\n",
       "      <td>0.00</td>\n",
       "      <td>0.00</td>\n",
       "      <td>24</td>\n",
       "      <td>9355.583333</td>\n",
       "      <td>779.631944</td>\n",
       "      <td>9355.583333</td>\n",
       "    </tr>\n",
       "    <tr>\n",
       "      <th>9314</th>\n",
       "      <td>POL</td>\n",
       "      <td>Department of Police</td>\n",
       "      <td>POL 47 PSB 2nd District Station</td>\n",
       "      <td>F</td>\n",
       "      <td>89948.0</td>\n",
       "      <td>3718.98</td>\n",
       "      <td>3831.13</td>\n",
       "      <td>N19</td>\n",
       "      <td>7495.666667</td>\n",
       "      <td>624.638889</td>\n",
       "      <td>7495.666667</td>\n",
       "    </tr>\n",
       "    <tr>\n",
       "      <th>7812</th>\n",
       "      <td>OMB</td>\n",
       "      <td>Office of Management and Budget</td>\n",
       "      <td>OMB 31 Office of Management and Budget</td>\n",
       "      <td>F</td>\n",
       "      <td>147354.0</td>\n",
       "      <td>0.00</td>\n",
       "      <td>0.00</td>\n",
       "      <td>N30</td>\n",
       "      <td>12279.500000</td>\n",
       "      <td>1023.291667</td>\n",
       "      <td>12279.500000</td>\n",
       "    </tr>\n",
       "  </tbody>\n",
       "</table>\n",
       "</div>"
      ],
      "text/plain": [
       "     Department                  Department_Name  \\\n",
       "7529        LIB   Department of Public Libraries   \n",
       "9314        POL             Department of Police   \n",
       "7812        OMB  Office of Management and Budget   \n",
       "\n",
       "                                    Division Gender  Base_Salary  \\\n",
       "7529                  LIB 71 Wheaton Library      M     112267.0   \n",
       "9314         POL 47 PSB 2nd District Station      F      89948.0   \n",
       "7812  OMB 31 Office of Management and Budget      F     147354.0   \n",
       "\n",
       "      Overtime_Pay  Longevity_Pay Grade  salario_mensual  Salario_Anual  \\\n",
       "7529          0.00           0.00    24      9355.583333     779.631944   \n",
       "9314       3718.98        3831.13   N19      7495.666667     624.638889   \n",
       "7812          0.00           0.00   N30     12279.500000    1023.291667   \n",
       "\n",
       "      Salario_Mensual  \n",
       "7529      9355.583333  \n",
       "9314      7495.666667  \n",
       "7812     12279.500000  "
      ]
     },
     "execution_count": 23,
     "metadata": {},
     "output_type": "execute_result"
    }
   ],
   "source": [
    "empleados.sample(3)"
   ]
  },
  {
   "cell_type": "code",
   "execution_count": 24,
   "metadata": {},
   "outputs": [
    {
     "data": {
      "text/plain": [
       "Department_Name\n",
       "Alcohol Beverage Services                                      5404.434987\n",
       "Board of Appeals Department                                    8706.877244\n",
       "Board of Elections                                             7126.428071\n",
       "Community Engagement Cluster                                   6480.344856\n",
       "Community Use of Public Facilities                             7625.927152\n",
       "Correction and Rehabilitation                                  7080.015017\n",
       "County Attorney's Office                                      10806.739197\n",
       "County Council                                                 8812.880424\n",
       "Department of Environmental Protection                         8720.372235\n",
       "Department of Finance                                          9594.153443\n",
       "Department of General Services                                 7668.492105\n",
       "Department of Health and Human Services                        7422.027654\n",
       "Department of Housing and Community Affairs                    8708.815398\n",
       "Department of Permitting Services                              8694.258714\n",
       "Department of Police                                           7589.239663\n",
       "Department of Public Libraries                                 5369.049808\n",
       "Department of Recreation                                       7002.318728\n",
       "Department of Technology and Enterprise Business Solutions    11036.767610\n",
       "Department of Transportation                                   6811.711888\n",
       "Ethics Commission                                             11782.368750\n",
       "Fire and Rescue Services                                       8007.656340\n",
       "Merit System Protection Board Department                       7742.237246\n",
       "Non-Departmental Account                                      11737.532059\n",
       "Office of Agriculture                                          8384.347672\n",
       "Office of Animal Services                                      6376.134613\n",
       "Office of Consumer Protection                                  8900.287743\n",
       "Office of Emergency Management and Homeland Security           9259.609603\n",
       "Office of Food Systems Resilience                              9398.138889\n",
       "Office of Grants Management                                    8716.603000\n",
       "Office of Human Resources                                      9151.357365\n",
       "Office of Human Rights                                         9015.183677\n",
       "Office of Intergovernmental Relations Department              13766.395833\n",
       "Office of Labor Relations                                     11539.802292\n",
       "Office of Legislative Oversight                               11134.665224\n",
       "Office of Management and Budget                               10680.399643\n",
       "Office of Procurement                                          8609.478678\n",
       "Office of Public Information                                   7388.630391\n",
       "Office of Racial Equity and Social Justice                    10175.147764\n",
       "Office of Zoning and Administrative Hearings                  11991.707560\n",
       "Office of the Inspector General                               10553.158141\n",
       "Offices of the County Executive                               10659.977880\n",
       "Sheriff's Office                                               7491.022187\n",
       "Name: Salario_Mensual, dtype: float64"
      ]
     },
     "execution_count": 24,
     "metadata": {},
     "output_type": "execute_result"
    }
   ],
   "source": [
    "promedio_salario"
   ]
  },
  {
   "cell_type": "code",
   "execution_count": 26,
   "metadata": {},
   "outputs": [],
   "source": [
    "#Filtrar los empleados que ganan más de $10 000 mensual.\n",
    "empleados_10000_mensual = empleados[empleados[\"Base_Salary\"] > 10000]"
   ]
  }
 ],
 "metadata": {
  "kernelspec": {
   "display_name": "Python 3",
   "language": "python",
   "name": "python3"
  },
  "language_info": {
   "codemirror_mode": {
    "name": "ipython",
    "version": 3
   },
   "file_extension": ".py",
   "mimetype": "text/x-python",
   "name": "python",
   "nbconvert_exporter": "python",
   "pygments_lexer": "ipython3",
   "version": "3.11.9"
  }
 },
 "nbformat": 4,
 "nbformat_minor": 2
}
